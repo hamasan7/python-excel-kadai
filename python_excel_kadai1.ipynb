{
  "nbformat": 4,
  "nbformat_minor": 0,
  "metadata": {
    "colab": {
      "provenance": [],
      "authorship_tag": "ABX9TyNuByRwgM7bCGKs9M65lKYG",
      "include_colab_link": true
    },
    "kernelspec": {
      "name": "python3",
      "display_name": "Python 3"
    },
    "language_info": {
      "name": "python"
    }
  },
  "cells": [
    {
      "cell_type": "markdown",
      "metadata": {
        "id": "view-in-github",
        "colab_type": "text"
      },
      "source": [
        "<a href=\"https://colab.research.google.com/github/hamasan7/python-excel-kadai/blob/main/python_excel_kadai1.ipynb\" target=\"_parent\"><img src=\"https://colab.research.google.com/assets/colab-badge.svg\" alt=\"Open In Colab\"/></a>"
      ]
    },
    {
      "cell_type": "code",
      "source": [
        "import openpyxl\n",
        "import datetime\n",
        "from datetime import datetime\n",
        "import pytz\n",
        "\n",
        "# 日本時間を指定\n",
        "tokyo_timezone = pytz.timezone('Asia/Tokyo')\n",
        "today_1 = datetime.now(tokyo_timezone)\n",
        "print(today_1)  # 正しい日本時間を確認\n",
        "#今日を取得\n",
        "today_2 = today_1.strftime('%Y%m%d')\n",
        "print(today_2)  #一応確認\n",
        "\n",
        "\n",
        "# 1. ワークブックとワークシートを作成\n",
        "wb = openpyxl.Workbook()\n",
        "ws = wb.active\n",
        "ws.title = \"請求書\"\n",
        "\n",
        "# --- データ定義 ---\n",
        "\n",
        "# B列に書き込む宛先情報\n",
        "address_data = [\n",
        "    '株式会社ABC',\n",
        "    '〒101-0022 東京都千代田区神田練塀町300',\n",
        "    'TEL:03-1234-5678 FAX:03-1234-5678',\n",
        "    '担当者名: 鈴木一郎 様'\n",
        "]\n",
        "\n",
        "# F,G列に書き込む請求書情報\n",
        "invoice_data = [\n",
        "    ['No.', '0001'],\n",
        "    ['日付', '2023/04/08']\n",
        "]\n",
        "\n",
        "# ヘッダー\n",
        "headers = ['商品名', '数量', '単価', '金額']\n",
        "\n",
        "# データ\n",
        "items = [\n",
        "    ['商品A', 2, 10000],\n",
        "    ['商品B', 1, 15000],\n",
        "]\n",
        "\n",
        "# 合計欄のラベル\n",
        "summary_labels = ['合計', '消費税', '税込合計']\n",
        "\n",
        "\n",
        "# --- Excelへの書き込み処理 ---\n",
        "\n",
        "# タイトル\n",
        "ws['B2'] = '請求書'\n",
        "\n",
        "# 宛先情報 (B4から下へ)\n",
        "for i, info in enumerate(address_data, start=4):\n",
        "    ws[f'B{i}'] = info\n",
        "\n",
        "# 請求書情報 (F4, G4から下へ)\n",
        "for i, (label, value) in enumerate(invoice_data, start=4):\n",
        "    ws[f'F{i}'] = label\n",
        "    ws[f'G{i}'] = value\n",
        "\n",
        "# 明細ヘッダー (B10から右へ)\n",
        "for col_num, header in enumerate(headers, start=2): # B列が2番目\n",
        "    ws.cell(row=10, column=col_num, value=header)\n",
        "\n",
        "# 明細データ (B11から)\n",
        "start_row = 11\n",
        "for row_offset, item_row in enumerate(items):\n",
        "    current_row = start_row + row_offset\n",
        "    # 商品名、数量、単価を書き込み\n",
        "    for col_offset, value in enumerate(item_row):\n",
        "        ws.cell(row=current_row, column=2 + col_offset, value=value)\n",
        "    # 金額の数式を設定\n",
        "    ws[f'E{current_row}'] = f'=C{current_row}*D{current_row}'\n",
        "\n",
        "# 小計と合計欄\n",
        "last_item_row = start_row + len(items) - 1\n",
        "subtotal_row = last_item_row + 1\n",
        "summary_start_row = 15\n",
        "\n",
        "# 小計\n",
        "ws[f'E{subtotal_row}'] = f\"=SUM(E{start_row}:E{last_item_row})\"\n",
        "\n",
        "# 合計欄のラベルと数式\n",
        "for i, label in enumerate(summary_labels):\n",
        "    row = summary_start_row + i\n",
        "    ws[f'B{row}'] = label\n",
        "\n",
        "ws[f'E{summary_start_row}'] = f'=E{subtotal_row}'  # 合計\n",
        "ws[f'E{summary_start_row + 1}'] = f'=E{summary_start_row}*0.1' # 消費税\n",
        "ws[f'E{summary_start_row + 2}'] = f'=E{summary_start_row}+E{summary_start_row+1}' # 税込合計\n",
        "\n",
        "# --- 書式設定 (見やすさのため) ---\n",
        "\n",
        "# 数値にカンマ区切りを設定\n",
        "for row in range(start_row, summary_start_row + 3):\n",
        "    ws[f'D{row}'].number_format = '#,##0'\n",
        "    ws[f'E{row}'].number_format = '#,##0'\n",
        "\n",
        "# 列の幅を調整\n",
        "'''\n",
        "ws.column_dimensions['B'].width = 30\n",
        "ws.column_dimensions['C'].width = 10\n",
        "ws.column_dimensions['D'].width = 15\n",
        "ws.column_dimensions['E'].width = 15\n",
        "ws.column_dimensions['F'].width = 5\n",
        "ws.column_dimensions['G'].width = 15\n",
        "'''\n",
        "# --- ファイルを保存 ---\n",
        "\n",
        "file_path = (f'請求書_20230520({today_2}).xlsx')\n",
        "wb.save(file_path)\n",
        "\n",
        "print(f\"ファイル '{file_path}' を作成しました。\")\n"
      ],
      "metadata": {
        "colab": {
          "base_uri": "https://localhost:8080/"
        },
        "id": "g0P7ziufoHy_",
        "outputId": "453a991c-5b75-4d1e-d5d6-d897637fb89a"
      },
      "execution_count": 3,
      "outputs": [
        {
          "output_type": "stream",
          "name": "stdout",
          "text": [
            "2025-07-12 17:23:14.518797+09:00\n",
            "20250712\n",
            "ファイル '請求書_20230520(20250712).xlsx' を作成しました。\n"
          ]
        }
      ]
    }
  ]
}